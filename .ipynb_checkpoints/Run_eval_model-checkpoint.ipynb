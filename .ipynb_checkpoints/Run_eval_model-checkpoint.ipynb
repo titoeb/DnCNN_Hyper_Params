{
 "cells": [
  {
   "cell_type": "code",
   "execution_count": 4,
   "metadata": {},
   "outputs": [],
   "source": [
    "import numpy as np\n",
    "import pandas as pd\n",
    "import matplotlib.pyplot as plt\n",
    "import tensorflow as tf\n",
    "import gc\n",
    "import time\n",
    "import datetime\n",
    "from PIL import Image\n",
    "from SSIM_PIL import compare_ssim"
   ]
  },
  {
   "cell_type": "markdown",
   "metadata": {},
   "source": [
    "Load data"
   ]
  },
  {
   "cell_type": "code",
   "execution_count": 59,
   "metadata": {},
   "outputs": [],
   "source": [
    "X_train = np.load('/scratch2/ttoebro/data/X_test_pois_1_9.npy')\n",
    "Y_train = np.load('/scratch2/ttoebro/data/Y_test_pois_1_9.npy')"
   ]
  },
  {
   "cell_type": "code",
   "execution_count": 60,
   "metadata": {},
   "outputs": [],
   "source": [
    "X_test = np.load('/scratch2/ttoebro/data/X_test_pois_1_9.npy')\n",
    "Y_test = np.load('/scratch2/ttoebro/data/Y_test_pois_1_9.npy')"
   ]
  },
  {
   "cell_type": "markdown",
   "metadata": {},
   "source": [
    "Helper functions for the network"
   ]
  },
  {
   "cell_type": "code",
   "execution_count": 61,
   "metadata": {},
   "outputs": [],
   "source": [
    "def conv_layer(tensor_in, name_layer, is_training, f_num, f_size):\n",
    "    x = tf.layers.conv2d(\n",
    "        inputs = tensor_in,\n",
    "        filters = f_num,\n",
    "        kernel_size = [f_size, f_size],\n",
    "        padding = \"same\",\n",
    "        activation= None,\n",
    "        name = name_layer,\n",
    "        use_bias=False)\n",
    "    \n",
    "    x = tf.layers.batch_normalization(x, name = name_layer + \"_bn\",\n",
    "                                             center=True, \n",
    "                                             scale=True, \n",
    "                                             training=is_training)\n",
    "    \n",
    "    return tf.nn.relu(x, name = name_layer + \"_relu\")"
   ]
  },
  {
   "cell_type": "code",
   "execution_count": 89,
   "metadata": {},
   "outputs": [],
   "source": [
    "def DnCNN_model(features, labels, mode):\n",
    "   # Input Layer\n",
    "    input_layer = features['x']\n",
    "   \n",
    "    # Convolutional layer #1     \n",
    "    input_layer = tf.layers.conv2d(\n",
    "        inputs = input_layer,\n",
    "        filters = filter_num_in,\n",
    "        kernel_size = filter_size_in,\n",
    "        padding = \"same\",\n",
    "        activation= tf.nn.relu,\n",
    "        name = \"Conv_Init\")\n",
    "    is_training_mode = (mode == tf.estimator.ModeKeys.TRAIN)\n",
    "    \n",
    "    if (skipped_scheme_in == \"ResNet\"):\n",
    "        # Standard DnCNN skipped layers scheme: one residual link between first and last\n",
    "        cur_tensor = input_layer\n",
    "        for i in range(1, depth_in + 1):\n",
    "            if i == 1:\n",
    "                cur_tensor = conv_layer(cur_tensor, \"conv{}\".format(i), is_training_mode, filter_num_in, filter_size_in)\n",
    "                save = cur_tensor\n",
    "            elif (i - 1) % 2 == 0:\n",
    "                cur_tensor = conv_layer(cur_tensor + save, \"conv{}\".format(i), is_training_mode, filter_num_in, filter_size_in)\n",
    "                save = cur_tensor\n",
    "            else:\n",
    "                cur_tensor = conv_layer(cur_tensor, \"conv{}\".format(i), is_training_mode, filter_num_in, filter_size_in)\n",
    "                \n",
    "        # Final layers: Make it a gray scale image again!\n",
    "        if (i - 1) % 2 == 0:\n",
    "            final_layer = tf.layers.conv2d(\n",
    "                inputs = cur_tensor + save,\n",
    "                filters = 1,\n",
    "                kernel_size = [1, 1],\n",
    "                padding = \"same\",\n",
    "                activation = None,\n",
    "                name = \"final_layer\")\n",
    "        else:\n",
    "            final_layer = tf.layers.conv2d(\n",
    "                inputs = cur_tensor,\n",
    "                filters = 1,\n",
    "                kernel_size = [1, 1],\n",
    "                padding = \"same\",\n",
    "                activation = None,\n",
    "                name = \"final_layer\")\n",
    "    else:\n",
    "        # Standard DnCNN skipped layers scheme: one residual link between first and last\n",
    "        cur_tensor = input_layer\n",
    "        for i in range(1, depth_in + 1):\n",
    "            cur = conv_layer(cur_tensor, \"conv{}\".format(i), is_training_mode, filter_num_in, filter_size_in)\n",
    "\n",
    "        # Final layers: Make it a gray scale image again!\n",
    "        final_layer = tf.layers.conv2d(\n",
    "            inputs = cur_tensor,\n",
    "            filters = 1,\n",
    "            kernel_size = [1, 1],\n",
    "            padding = \"same\",\n",
    "            activation = None,\n",
    "            name = \"final_layer\") + input_layer\n",
    "      \n",
    "    # Give output in prediction mode\n",
    "    if mode == tf.estimator.ModeKeys.PREDICT:\n",
    "        return tf.estimator.EstimatorSpec(mode = mode, predictions=final_layer)\n",
    "\n",
    "    # Calulate loss function according to loss_scheme\n",
    "    if(loss_scheme_in == 'SSIM'):\n",
    "        loss = -tf.reduce_mean(tf.image.ssim(labels, final_layer, 1.0))\n",
    "    elif(loss_scheme_in == 'L1'):\n",
    "        loss = tf.losses.mean_squared_error(labels = labels , predictions = final_layer)\n",
    "    else:\n",
    "        loss =  loss = tf.losses.absolute_difference(labels = labels , predictions = final_layer)\n",
    "    \n",
    "        \n",
    "    ### Print summary ###\n",
    "    if (mode != tf.estimator.ModeKeys.PREDICT):\n",
    "        tf.summary.image(\"Input_Image\", input_layer, max_outputs = 1)\n",
    "        tf.summary.image(\"Output_Image\", final_layer, max_outputs = 1)\n",
    "        tf.summary.image(\"True_Image\", labels,  max_outputs = 1)\n",
    "        tf.summary.histogram(\"Summary_final_layer\", final_layer)\n",
    "        tf.summary.histogram(\"Summary_labels\", labels)\n",
    "        tf.summary.scalar(\"Value_Loss_Function\", loss)\n",
    "        \n",
    "        # Besides the specific ones write out all trainiable variables\n",
    "        for var in tf.trainable_variables():\n",
    "            name = var.name\n",
    "            name = name.replace(':', '_')\n",
    "            tf.summary.histogram(name, var)\n",
    "            \n",
    "        # Finally merge the summary\n",
    "        merged_summary = tf.summary.merge_all()\n",
    "\n",
    "    # Specify Learning \n",
    "    if mode == tf.estimator.ModeKeys.TRAIN:\n",
    "        # This is needed so that Batch normalization paramters are trained as well.\n",
    "        update_ops = tf.get_collection(tf.GraphKeys.UPDATE_OPS)\n",
    "        with tf.control_dependencies(update_ops):\n",
    "            # Specify the Optimizer\n",
    "            original_optimizer = tf.train.AdamOptimizer(learning_rate = learning_rate)\n",
    "            # Use gradient clipping to avoid exploding gradients\n",
    "            optimizer = tf.contrib.estimator.clip_gradients_by_norm(original_optimizer, clip_norm=5.0)\n",
    "            # The loss function should be minimized.\n",
    "            train_op = optimizer.minimize(loss = loss, global_step=tf.train.get_global_step())\n",
    "            return tf.estimator.EstimatorSpec(mode=mode, loss=loss, train_op=train_op)"
   ]
  },
  {
   "cell_type": "markdown",
   "metadata": {},
   "source": [
    "Definition of the NN"
   ]
  },
  {
   "cell_type": "code",
   "execution_count": 63,
   "metadata": {},
   "outputs": [],
   "source": [
    "def run_model(directory, name, model_id, batch_size, steps):\n",
    "    runconf = tf.estimator.RunConfig(save_summary_steps=5, log_step_count_steps = 10)\n",
    "    DnCNN = tf.estimator.Estimator(config=runconf,\n",
    "        model_fn=DnCNN_model, model_dir = directory + name + \"_\" + model_id)\n",
    "\n",
    "    train = tf.estimator.inputs.numpy_input_fn(\n",
    "        x={\"x\": X_train},\n",
    "        y=Y_train,\n",
    "        batch_size=batch_size,\n",
    "        num_epochs=None,\n",
    "        shuffle=True)\n",
    "    \n",
    "    DnCNN.train(input_fn=train, steps=steps)"
   ]
  },
  {
   "cell_type": "code",
   "execution_count": 64,
   "metadata": {},
   "outputs": [],
   "source": [
    "def eval_model(directory, name, model_id, batch_size, steps):\n",
    "    # Specify Model\n",
    "    runconf = tf.estimator.RunConfig(save_summary_steps=1000, log_step_count_steps = 1000)\n",
    "    DnCNN = tf.estimator.Estimator(config=runconf,\n",
    "        model_fn=DnCNN_model, model_dir = directory + name + \"_\" + model_id)\n",
    "    \n",
    "    # Evaluate \n",
    "    predict_input_fn = tf.estimator.inputs.numpy_input_fn(\n",
    "        x={\"x\": X_test[:,:,:,:]},\n",
    "        y=Y_test[:,:,:,:],\n",
    "        batch_size = 1,\n",
    "        shuffle=False)\n",
    "    predict_results = AutoEncoder.predict(input_fn=predict_input_fn)\n",
    "    \n",
    "    sum_mae = 0\n",
    "    sum_mse = 0\n",
    "    sum_ssim = 0\n",
    "    \n",
    "    for im_num in range(0, Y_test.shape[0]):\n",
    "        prediction = next(predict_results)\n",
    "        true_image = Y_test[im_num,:,:,:]\n",
    "        sum_mae += np.mean(np.abs(prediction - true_image))\n",
    "        sum_mse += np.mean(np.power((prediction - true_image), 2))\n",
    "        sum_ssim += compare_ssim(Image.fromarray((prediction[:,:,0] * 255).astype('uint8'), 'L'),\n",
    "                 Image.fromarray((true_image[:,:,0] * 255).astype('uint8'), 'L'))\n",
    "    \n",
    "    mean_mae /= X_train.shape[0]\n",
    "    mean_mse /= X_train.shape[0]\n",
    "    mean_ssim /= X_train.shape[0]\n",
    "    return list(mean_mae, mean_mse, mean_ssim)"
   ]
  },
  {
   "cell_type": "code",
   "execution_count": 91,
   "metadata": {},
   "outputs": [],
   "source": [
    "def Execute_model(depth,\n",
    "                  filter_num,\n",
    "                  loss_scheme,\n",
    "                  skipped_scheme,\n",
    "                  filter_size,\n",
    "                  learning_rate,\n",
    "                  directory,\n",
    "                  model_id,\n",
    "                  name,\n",
    "                  batch_size,\n",
    "                  steps):\n",
    "    # Check arguments\n",
    "    if (depth < 1 or depth > 40):\n",
    "        raise Exception('Depth of {} is not allowed!'.format(depth))\n",
    "    if(filter_num < 1 or filter_num > 256):\n",
    "        raise Exception('filter_num of {} is not allowed!'.format(filter_num))\n",
    "    if(not (loss_scheme == \"L1\" or loss_scheme == \"L2\" or loss == \"SSIM\")):\n",
    "        raise Exception('loss_scheme {} is not allowed!'.format(loss_scheme))\n",
    "    if(not (skipped_scheme == 'DnCNN' or skipped_scheme == 'ResNet')):\n",
    "        raise Exception('skipped_scheme {} is not allowed!'.format(skipped_scheme))\n",
    "    if(filter_size < 1 or filter_size > 9):\n",
    "        raise Exception('filter_size of {} is not allowed!'.format(filter_size))\n",
    "    if(learning_rate < 0 or learning_rate > 1):\n",
    "        raise Exception('learning_rate of {} is not allowed!'.format(learning_rate))\n",
    "        \n",
    "        \n",
    "    # Define arguments global\n",
    "    global depth_in, filter_num_in, loss_scheme_in, skipped_scheme_in, filter_size_in, learning_rate_in, directory_in, model_id_in,  name_in, batch_size_in, steps_in\n",
    "    depth_in = depth\n",
    "    filter_num_in = filter_num\n",
    "    loss_scheme_in = loss_scheme\n",
    "    skipped_scheme_in = skipped_scheme\n",
    "    filter_size_in = filter_size\n",
    "    learning_rate_in = learning_rate\n",
    "    directory_in = directory\n",
    "    model_id_in = model_id\n",
    "    name_in = name\n",
    "    batch_size_in = batch_size\n",
    "    steps_in = steps\n",
    "    \n",
    "    ## run model ##\n",
    "    Runtime_test = -1.0\n",
    "    Runtime_train = -1.0\n",
    "    start = time.time()\n",
    "    try:\n",
    "        run_model(directory, name, model_id, batch_size, steps)\n",
    "        Runtime_train = time.time() - start\n",
    "        start = time.time()\n",
    "        try:\n",
    "            eval_results = eval_model(directory, name, model_id, batch_size, steps)\n",
    "            MAE = eval_results[0]\n",
    "            MSE = eval_result[1]\n",
    "            SSIM = eval_results[2]\n",
    "        except Exception as e:\n",
    "            print(e)\n",
    "            MAE = -10.0\n",
    "            MSE =  -10.0\n",
    "            SSIM =  -10.0\n",
    "        Runtime_test = time.time() - start\n",
    "    except Exception as e:\n",
    "        print(e)\n",
    "        MAE = -10.0\n",
    "        MSE = -10.0\n",
    "        SSIM = -10.0\n",
    "    \n",
    "    # return MAE, MSE, SSIM on test and run-time\n",
    "    return({'MAE': MAE, 'MSE': MSE, 'SSIM' : SSIM, 'Runtime_test' : Runtime_test, 'Runtime_train' : Runtime_train})   "
   ]
  },
  {
   "cell_type": "code",
   "execution_count": 92,
   "metadata": {
    "scrolled": true
   },
   "outputs": [
    {
     "name": "stdout",
     "output_type": "stream",
     "text": [
      "INFO:tensorflow:Using config: {'_model_dir': '/scratch2/ttoebro/models/DnCNNtest1', '_tf_random_seed': None, '_save_summary_steps': 5, '_save_checkpoints_steps': None, '_save_checkpoints_secs': 600, '_session_config': None, '_keep_checkpoint_max': 5, '_keep_checkpoint_every_n_hours': 10000, '_log_step_count_steps': 10, '_train_distribute': None, '_service': None, '_cluster_spec': <tensorflow.python.training.server_lib.ClusterSpec object at 0x7f17da8fb3c8>, '_task_type': 'worker', '_task_id': 0, '_global_id_in_cluster': 0, '_master': '', '_evaluation_master': '', '_is_chief': True, '_num_ps_replicas': 0, '_num_worker_replicas': 1}\n",
      "INFO:tensorflow:Calling model_fn.\n",
      "name 'filter_size' is not defined\n"
     ]
    },
    {
     "data": {
      "text/plain": [
       "{'MAE': -10.0,\n",
       " 'MSE': -10.0,\n",
       " 'SSIM': -10.0,\n",
       " 'Runtime_test': -1.0,\n",
       " 'Runtime_train': -1.0}"
      ]
     },
     "execution_count": 92,
     "metadata": {},
     "output_type": "execute_result"
    }
   ],
   "source": [
    "Execute_model(depth = 5,\n",
    "                  filter_num = 16,\n",
    "                  loss_scheme = 'L1',\n",
    "                  skipped_scheme = 'DnCNN',\n",
    "                  filter_size = 3,\n",
    "                  learning_rate = 0.05,\n",
    "                  directory = \"/scratch2/ttoebro/models/\",\n",
    "                  name = \"DnCNN\",\n",
    "                  model_id = \"test1\",\n",
    "                  batch_size = 8,\n",
    "                  steps = 5)"
   ]
  },
  {
   "cell_type": "code",
   "execution_count": 80,
   "metadata": {},
   "outputs": [],
   "source": [
    "def test2(c, d):\n",
    "    print('f is {}'.format(f))\n",
    "    "
   ]
  },
  {
   "cell_type": "code",
   "execution_count": 85,
   "metadata": {},
   "outputs": [],
   "source": [
    "def test(a, b):\n",
    "    global f\n",
    "    f = a\n",
    "    test2(1, 1)\n",
    "    "
   ]
  },
  {
   "cell_type": "code",
   "execution_count": 86,
   "metadata": {},
   "outputs": [
    {
     "name": "stdout",
     "output_type": "stream",
     "text": [
      "f is -1\n"
     ]
    }
   ],
   "source": [
    "test(-1, -1)"
   ]
  }
 ],
 "metadata": {
  "kernelspec": {
   "display_name": "Python 3",
   "language": "python",
   "name": "python3"
  },
  "language_info": {
   "codemirror_mode": {
    "name": "ipython",
    "version": 3
   },
   "file_extension": ".py",
   "mimetype": "text/x-python",
   "name": "python",
   "nbconvert_exporter": "python",
   "pygments_lexer": "ipython3",
   "version": "3.6.7"
  }
 },
 "nbformat": 4,
 "nbformat_minor": 2
}
