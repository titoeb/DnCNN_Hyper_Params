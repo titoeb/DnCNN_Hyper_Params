{
 "cells": [
  {
   "cell_type": "code",
   "execution_count": 66,
   "metadata": {},
   "outputs": [],
   "source": [
    "import numpy as np\n",
    "import pandas as pd"
   ]
  },
  {
   "cell_type": "code",
   "execution_count": 67,
   "metadata": {},
   "outputs": [],
   "source": [
    "def make_grid(direc,\n",
    "                name,\n",
    "                max_len,\n",
    "                depth,\n",
    "                filter_num,\n",
    "                loss_scheme,\n",
    "                skipped_scheme,\n",
    "                filter_size,\n",
    "                learning_rate):\n",
    "    data_dict = {'model_id' : list(), 'depth' : list(), 'filter_num' : list(), 'loss_scheme' : list(), 'skipped_scheme' : list(), 'filter_size' : list(), 'learning_rate' : list()}\n",
    "    iterator = 0\n",
    "    for dep in depth:\n",
    "        for filter_n in filter_num:\n",
    "            for loss_s in loss_scheme:\n",
    "                for skipped_sch in skipped_scheme:\n",
    "                    for filter_s in filter_size:\n",
    "                        for learning_r in learning_rate:\n",
    "                            data_dict['depth'].append(dep)\n",
    "                            data_dict['filter_num'].append(filter_n)\n",
    "                            data_dict['loss_scheme'].append(loss_s)\n",
    "                            data_dict['skipped_scheme'].append(skipped_sch)\n",
    "                            data_dict['filter_size'].append(filter_s)\n",
    "                            data_dict['learning_rate'].append(learning_r)\n",
    "                            data_dict['model_id'].append(str(iterator))\n",
    "                            iterator += 1\n",
    "    data = pd.DataFrame(data_dict)\n",
    "    data['Avg_MAE'] = -11.0\n",
    "    data['Avg_MSE'] = -11.0\n",
    "    data['Avg_SSIM'] = -11.0\n",
    "    data['Runtime_test'] = -2.0\n",
    "    data['Runtime_train'] = -2.0\n",
    "    data['Error_message'] = \"not_run\"\n",
    "    data['location'] = \"not_run\"\n",
    "    if data.shape[0] <= max_len:\n",
    "        data.to_csv(direc + name + \".csv\", index=False)\n",
    "    else:\n",
    "        # separate df to different parts\n",
    "        count = 0\n",
    "        first = 0\n",
    "        end = max_len\n",
    "        while(end < data.shape[0]):\n",
    "            tmp = data.iloc[first:end,:]\n",
    "            tmp.to_csv(direc + name + \"_part_\" + str(count) + \".csv\", index=False)\n",
    "            count += 1\n",
    "            first+= max_len\n",
    "            end+= max_len"
   ]
  },
  {
   "cell_type": "code",
   "execution_count": 68,
   "metadata": {},
   "outputs": [],
   "source": [
    "make_grid(direc = '/scratch2/ttoebro/Grid_search/Grid/',\n",
    "                name = 'main_grid',\n",
    "                max_len = 48,\n",
    "                depth = [10, 13, 16, 18, 20, 22, 25],\n",
    "                filter_num = [16, 32, 64, 128],\n",
    "                loss_scheme = ['L1', 'L2', 'SSIM'],\n",
    "                skipped_scheme = ['DnCNN', 'ResNet'],\n",
    "                filter_size = [3, 5, 7],\n",
    "                learning_rate = [0.075])"
   ]
  }
 ],
 "metadata": {
  "kernelspec": {
   "display_name": "Python 3",
   "language": "python",
   "name": "python3"
  },
  "language_info": {
   "codemirror_mode": {
    "name": "ipython",
    "version": 3
   },
   "file_extension": ".py",
   "mimetype": "text/x-python",
   "name": "python",
   "nbconvert_exporter": "python",
   "pygments_lexer": "ipython3",
   "version": "3.6.7"
  }
 },
 "nbformat": 4,
 "nbformat_minor": 2
}
